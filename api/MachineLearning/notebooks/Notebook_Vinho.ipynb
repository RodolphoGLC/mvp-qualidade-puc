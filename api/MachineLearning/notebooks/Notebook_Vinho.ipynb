{
  "cells": [
    {
      "cell_type": "markdown",
      "metadata": {
        "id": "view-in-github"
      },
      "source": [
        "<a href=\"https://colab.research.google.com/github/rlcoelho/mvp-qualidade/blob/master/MVP3_MeuColab.ipynb\" target=\"_parent\"><img src=\"https://colab.research.google.com/assets/colab-badge.svg\" alt=\"Open In Colab\"/></a>"
      ]
    },
    {
      "cell_type": "markdown",
      "metadata": {
        "id": "otEdveLq8Hn0"
      },
      "source": [
        "# MVP Sprint: Qualidade de Software, Segurança e Sistemas Inteligentes\n",
        "### Prática de Machine Learning em Python\n",
        "##### Problema. Saber a qualidade do vinho a partir dos parametros"
      ]
    },
    {
      "cell_type": "markdown",
      "metadata": {
        "id": "1EcX1jtd1pSt"
      },
      "source": []
    },
    {
      "cell_type": "markdown",
      "metadata": {
        "id": "smz5BnMhX5D7"
      },
      "source": [
        "## Imports para criação e treinamento do modelo"
      ]
    },
    {
      "cell_type": "code",
      "execution_count": 1,
      "metadata": {
        "id": "RCn8CH4M7wF-"
      },
      "outputs": [
        {
          "name": "stderr",
          "output_type": "stream",
          "text": [
            "\n",
            "[notice] A new release of pip is available: 25.0.1 -> 25.1.1\n",
            "[notice] To update, run: python.exe -m pip install --upgrade pip\n"
          ]
        },
        {
          "name": "stdout",
          "output_type": "stream",
          "text": [
            "Requirement already satisfied: seaborn in c:\\users\\pichau\\appdata\\local\\programs\\python\\python311\\lib\\site-packages (0.13.2)\n",
            "Requirement already satisfied: numpy!=1.24.0,>=1.20 in c:\\users\\pichau\\appdata\\local\\programs\\python\\python311\\lib\\site-packages (from seaborn) (2.3.0)\n",
            "Requirement already satisfied: pandas>=1.2 in c:\\users\\pichau\\appdata\\local\\programs\\python\\python311\\lib\\site-packages (from seaborn) (2.3.0)\n",
            "Requirement already satisfied: matplotlib!=3.6.1,>=3.4 in c:\\users\\pichau\\appdata\\local\\programs\\python\\python311\\lib\\site-packages (from seaborn) (3.10.3)\n",
            "Requirement already satisfied: contourpy>=1.0.1 in c:\\users\\pichau\\appdata\\local\\programs\\python\\python311\\lib\\site-packages (from matplotlib!=3.6.1,>=3.4->seaborn) (1.3.2)\n",
            "Requirement already satisfied: cycler>=0.10 in c:\\users\\pichau\\appdata\\local\\programs\\python\\python311\\lib\\site-packages (from matplotlib!=3.6.1,>=3.4->seaborn) (0.12.1)\n",
            "Requirement already satisfied: fonttools>=4.22.0 in c:\\users\\pichau\\appdata\\local\\programs\\python\\python311\\lib\\site-packages (from matplotlib!=3.6.1,>=3.4->seaborn) (4.58.4)\n",
            "Requirement already satisfied: kiwisolver>=1.3.1 in c:\\users\\pichau\\appdata\\local\\programs\\python\\python311\\lib\\site-packages (from matplotlib!=3.6.1,>=3.4->seaborn) (1.4.8)\n",
            "Requirement already satisfied: packaging>=20.0 in c:\\users\\pichau\\appdata\\local\\programs\\python\\python311\\lib\\site-packages (from matplotlib!=3.6.1,>=3.4->seaborn) (25.0)\n",
            "Requirement already satisfied: pillow>=8 in c:\\users\\pichau\\appdata\\local\\programs\\python\\python311\\lib\\site-packages (from matplotlib!=3.6.1,>=3.4->seaborn) (11.2.1)\n",
            "Requirement already satisfied: pyparsing>=2.3.1 in c:\\users\\pichau\\appdata\\local\\programs\\python\\python311\\lib\\site-packages (from matplotlib!=3.6.1,>=3.4->seaborn) (3.2.3)\n",
            "Requirement already satisfied: python-dateutil>=2.7 in c:\\users\\pichau\\appdata\\local\\programs\\python\\python311\\lib\\site-packages (from matplotlib!=3.6.1,>=3.4->seaborn) (2.9.0.post0)\n",
            "Requirement already satisfied: pytz>=2020.1 in c:\\users\\pichau\\appdata\\local\\programs\\python\\python311\\lib\\site-packages (from pandas>=1.2->seaborn) (2025.2)\n",
            "Requirement already satisfied: tzdata>=2022.7 in c:\\users\\pichau\\appdata\\local\\programs\\python\\python311\\lib\\site-packages (from pandas>=1.2->seaborn) (2025.2)\n",
            "Requirement already satisfied: six>=1.5 in c:\\users\\pichau\\appdata\\local\\programs\\python\\python311\\lib\\site-packages (from python-dateutil>=2.7->matplotlib!=3.6.1,>=3.4->seaborn) (1.17.0)\n",
            "Note: you may need to restart the kernel to use updated packages.\n"
          ]
        }
      ],
      "source": [
        "# configuração para não exibir os warnings\n",
        "import warnings\n",
        "warnings.filterwarnings(\"ignore\")\n",
        "\n",
        "%pip install seaborn\n",
        "\n",
        "# Imports necessários\n",
        "import pandas as pd\n",
        "import numpy as np\n",
        "import matplotlib.pyplot as plt\n",
        "from sklearn.preprocessing import StandardScaler\n",
        "from sklearn.preprocessing import MinMaxScaler\n",
        "from sklearn.model_selection import train_test_split\n",
        "from sklearn.model_selection import KFold\n",
        "from sklearn.model_selection import StratifiedKFold\n",
        "from sklearn.model_selection import cross_val_score\n",
        "from sklearn.model_selection import GridSearchCV\n",
        "from sklearn.metrics import accuracy_score\n",
        "from sklearn.pipeline import Pipeline\n",
        "from sklearn.linear_model import LogisticRegression\n",
        "from sklearn.tree import DecisionTreeClassifier\n",
        "from sklearn.neighbors import KNeighborsClassifier\n",
        "from sklearn.naive_bayes import GaussianNB\n",
        "from sklearn.svm import SVC\n",
        "from sklearn.ensemble import BaggingClassifier\n",
        "from sklearn.ensemble import RandomForestClassifier\n",
        "from sklearn.ensemble import ExtraTreesClassifier\n",
        "from sklearn.ensemble import VotingClassifier\n",
        "from sklearn.ensemble import AdaBoostClassifier\n",
        "from sklearn.ensemble import GradientBoostingClassifier\n",
        "import seaborn as sns\n",
        "import pickle"
      ]
    },
    {
      "cell_type": "markdown",
      "metadata": {
        "id": "2PcB0Efd-MS4"
      },
      "source": [
        "## Carga do Dataset"
      ]
    },
    {
      "cell_type": "code",
      "execution_count": 2,
      "metadata": {
        "colab": {
          "base_uri": "https://localhost:8080/",
          "height": 226
        },
        "id": "29AFuCPtvG_i",
        "outputId": "47232767-1738-4d5d-c995-46e2882dd302"
      },
      "outputs": [
        {
          "data": {
            "text/html": [
              "<div>\n",
              "<style scoped>\n",
              "    .dataframe tbody tr th:only-of-type {\n",
              "        vertical-align: middle;\n",
              "    }\n",
              "\n",
              "    .dataframe tbody tr th {\n",
              "        vertical-align: top;\n",
              "    }\n",
              "\n",
              "    .dataframe thead th {\n",
              "        text-align: right;\n",
              "    }\n",
              "</style>\n",
              "<table border=\"1\" class=\"dataframe\">\n",
              "  <thead>\n",
              "    <tr style=\"text-align: right;\">\n",
              "      <th></th>\n",
              "      <th>fixed_acidity</th>\n",
              "      <th>volatile_acidity</th>\n",
              "      <th>citric_acid</th>\n",
              "      <th>residual_sugar</th>\n",
              "      <th>chlorides</th>\n",
              "      <th>free_sulfur_dioxide</th>\n",
              "      <th>total_sulfur_dioxide</th>\n",
              "      <th>density</th>\n",
              "      <th>pH</th>\n",
              "      <th>sulphates</th>\n",
              "      <th>alcohol</th>\n",
              "      <th>quality</th>\n",
              "    </tr>\n",
              "  </thead>\n",
              "  <tbody>\n",
              "    <tr>\n",
              "      <th>0</th>\n",
              "      <td>7.4</td>\n",
              "      <td>0.70</td>\n",
              "      <td>0.00</td>\n",
              "      <td>1.9</td>\n",
              "      <td>0.076</td>\n",
              "      <td>11.0</td>\n",
              "      <td>34.0</td>\n",
              "      <td>0.9978</td>\n",
              "      <td>3.51</td>\n",
              "      <td>0.56</td>\n",
              "      <td>9.4</td>\n",
              "      <td>5</td>\n",
              "    </tr>\n",
              "    <tr>\n",
              "      <th>1</th>\n",
              "      <td>7.8</td>\n",
              "      <td>0.88</td>\n",
              "      <td>0.00</td>\n",
              "      <td>2.6</td>\n",
              "      <td>0.098</td>\n",
              "      <td>25.0</td>\n",
              "      <td>67.0</td>\n",
              "      <td>0.9968</td>\n",
              "      <td>3.20</td>\n",
              "      <td>0.68</td>\n",
              "      <td>9.8</td>\n",
              "      <td>5</td>\n",
              "    </tr>\n",
              "    <tr>\n",
              "      <th>2</th>\n",
              "      <td>7.8</td>\n",
              "      <td>0.76</td>\n",
              "      <td>0.04</td>\n",
              "      <td>2.3</td>\n",
              "      <td>0.092</td>\n",
              "      <td>15.0</td>\n",
              "      <td>54.0</td>\n",
              "      <td>0.9970</td>\n",
              "      <td>3.26</td>\n",
              "      <td>0.65</td>\n",
              "      <td>9.8</td>\n",
              "      <td>5</td>\n",
              "    </tr>\n",
              "    <tr>\n",
              "      <th>3</th>\n",
              "      <td>11.2</td>\n",
              "      <td>0.28</td>\n",
              "      <td>0.56</td>\n",
              "      <td>1.9</td>\n",
              "      <td>0.075</td>\n",
              "      <td>17.0</td>\n",
              "      <td>60.0</td>\n",
              "      <td>0.9980</td>\n",
              "      <td>3.16</td>\n",
              "      <td>0.58</td>\n",
              "      <td>9.8</td>\n",
              "      <td>6</td>\n",
              "    </tr>\n",
              "    <tr>\n",
              "      <th>4</th>\n",
              "      <td>7.4</td>\n",
              "      <td>0.70</td>\n",
              "      <td>0.00</td>\n",
              "      <td>1.9</td>\n",
              "      <td>0.076</td>\n",
              "      <td>11.0</td>\n",
              "      <td>34.0</td>\n",
              "      <td>0.9978</td>\n",
              "      <td>3.51</td>\n",
              "      <td>0.56</td>\n",
              "      <td>9.4</td>\n",
              "      <td>5</td>\n",
              "    </tr>\n",
              "  </tbody>\n",
              "</table>\n",
              "</div>"
            ],
            "text/plain": [
              "   fixed_acidity  volatile_acidity  citric_acid  residual_sugar  chlorides  \\\n",
              "0            7.4              0.70         0.00             1.9      0.076   \n",
              "1            7.8              0.88         0.00             2.6      0.098   \n",
              "2            7.8              0.76         0.04             2.3      0.092   \n",
              "3           11.2              0.28         0.56             1.9      0.075   \n",
              "4            7.4              0.70         0.00             1.9      0.076   \n",
              "\n",
              "   free_sulfur_dioxide  total_sulfur_dioxide  density    pH  sulphates  \\\n",
              "0                 11.0                  34.0   0.9978  3.51       0.56   \n",
              "1                 25.0                  67.0   0.9968  3.20       0.68   \n",
              "2                 15.0                  54.0   0.9970  3.26       0.65   \n",
              "3                 17.0                  60.0   0.9980  3.16       0.58   \n",
              "4                 11.0                  34.0   0.9978  3.51       0.56   \n",
              "\n",
              "   alcohol  quality  \n",
              "0      9.4        5  \n",
              "1      9.8        5  \n",
              "2      9.8        5  \n",
              "3      9.8        6  \n",
              "4      9.4        5  "
            ]
          },
          "execution_count": 2,
          "metadata": {},
          "output_type": "execute_result"
        }
      ],
      "source": [
        "# Informa a URL de importação do dataset\n",
        "url = \"https://raw.githubusercontent.com/RodolphoGLC/teste/refs/heads/main/winequality-red.csv\"\n",
        "\n",
        "dataset = pd.read_csv(url, delimiter=',')\n",
        "\n",
        "dataset.head()"
      ]
    },
    {
      "cell_type": "markdown",
      "metadata": {
        "id": "oOQajZ_Yf66U"
      },
      "source": [
        "## Exploração dos dados"
      ]
    },
    {
      "cell_type": "code",
      "execution_count": 3,
      "metadata": {
        "colab": {
          "base_uri": "https://localhost:8080/"
        },
        "id": "b6VQaeX_f4GO",
        "outputId": "0dc5d10f-da3c-46ca-f571-755341137ef4"
      },
      "outputs": [
        {
          "name": "stdout",
          "output_type": "stream",
          "text": [
            "================================================================================\n",
            "\u001b[1m📊 Análise do DataFrame:\u001b[0m\n",
            "================================================================================\n",
            "\n",
            "🔹 \u001b[1mFormato:\u001b[0m 1599 linhas x 12 colunas\n",
            "\n",
            "🔹 \u001b[1mColunas:\u001b[0m ['fixed_acidity', 'volatile_acidity', 'citric_acid', 'residual_sugar', 'chlorides', 'free_sulfur_dioxide', 'total_sulfur_dioxide', 'density', 'pH', 'sulphates', 'alcohol', 'quality']\n",
            "\n",
            "🔹 \u001b[1mValores Nulos por Coluna:\u001b[0m\n",
            "\n",
            "✅ Nenhum valor nulo encontrado.\n",
            "\n",
            "🔹 \u001b[1mEstatísticas Descritivas (Numéricas):\u001b[0m\n",
            "\n",
            "                       count       mean        std      min      25%  \\\n",
            "fixed_acidity         1599.0   8.319637   1.741096  4.60000   7.1000   \n",
            "volatile_acidity      1599.0   0.527821   0.179060  0.12000   0.3900   \n",
            "citric_acid           1599.0   0.270976   0.194801  0.00000   0.0900   \n",
            "residual_sugar        1599.0   2.538806   1.409928  0.90000   1.9000   \n",
            "chlorides             1599.0   0.087467   0.047065  0.01200   0.0700   \n",
            "free_sulfur_dioxide   1599.0  15.874922  10.460157  1.00000   7.0000   \n",
            "total_sulfur_dioxide  1599.0  46.467792  32.895324  6.00000  22.0000   \n",
            "density               1599.0   0.996747   0.001887  0.99007   0.9956   \n",
            "pH                    1599.0   3.311113   0.154386  2.74000   3.2100   \n",
            "sulphates             1599.0   0.658149   0.169507  0.33000   0.5500   \n",
            "alcohol               1599.0  10.422983   1.065668  8.40000   9.5000   \n",
            "quality               1599.0   5.636023   0.807569  3.00000   5.0000   \n",
            "\n",
            "                           50%        75%        max  \n",
            "fixed_acidity          7.90000   9.200000   15.90000  \n",
            "volatile_acidity       0.52000   0.640000    1.58000  \n",
            "citric_acid            0.26000   0.420000    1.00000  \n",
            "residual_sugar         2.20000   2.600000   15.50000  \n",
            "chlorides              0.07900   0.090000    0.61100  \n",
            "free_sulfur_dioxide   14.00000  21.000000   72.00000  \n",
            "total_sulfur_dioxide  38.00000  62.000000  289.00000  \n",
            "density                0.99675   0.997835    1.00369  \n",
            "pH                     3.31000   3.400000    4.01000  \n",
            "sulphates              0.62000   0.730000    2.00000  \n",
            "alcohol               10.20000  11.100000   14.90000  \n",
            "quality                6.00000   6.000000    8.00000  \n",
            "================================================================================\n",
            "\n",
            "✅ Nenhum valor nulo encontrado.\n",
            "\n"
          ]
        },
        {
          "data": {
            "text/plain": [
              "<Figure size 1000x600 with 0 Axes>"
            ]
          },
          "metadata": {},
          "output_type": "display_data"
        },
        {
          "data": {
            "text/plain": [
              "<Figure size 1000x600 with 0 Axes>"
            ]
          },
          "metadata": {},
          "output_type": "display_data"
        }
      ],
      "source": [
        "def get_df_info(df, nome=\"DataFrame\"):\n",
        "    print(\"=\"*80)\n",
        "    print(f\"\\033[1m📊 Análise do {nome}:\\033[0m\")\n",
        "    print(\"=\"*80)\n",
        "\n",
        "    print(f\"\\n🔹 \\033[1mFormato:\\033[0m {df.shape[0]} linhas x {df.shape[1]} colunas\")\n",
        "    \n",
        "    print(f\"\\n🔹 \\033[1mColunas:\\033[0m {df.columns.to_list()}\")\n",
        "\n",
        "    print(f\"\\n🔹 \\033[1mValores Nulos por Coluna:\\033[0m\")\n",
        "    nulls = df.isnull().sum()\n",
        "    nulls = nulls[nulls > 0]\n",
        "    if nulls.empty:\n",
        "        print(\"\\n✅ Nenhum valor nulo encontrado.\")\n",
        "    else:\n",
        "        print(nulls)\n",
        "\n",
        "    print(f\"\\n🔹 \\033[1mEstatísticas Descritivas (Numéricas):\\033[0m\\n\")\n",
        "    print(df.describe().transpose())\n",
        "\n",
        "    print(\"=\"*80)\n",
        "\n",
        "    # (Opcional) Visualizações rápidas - comente se não quiser\n",
        "    plt.figure(figsize=(10, 6))\n",
        "    plt.figure(figsize=(10, 6))\n",
        "    if dataset.isnull().sum().sum() == 0:\n",
        "        print(\"\\n✅ Nenhum valor nulo encontrado.\\n\")\n",
        "    else:\n",
        "        sns.heatmap(dataset.isnull(), cbar=False, cmap=\"coolwarm\")\n",
        "        plt.title(\"\\nMapa de calor dos valores nulos\")\n",
        "        plt.show()\n",
        "\n",
        "get_df_info(dataset)"
      ]
    },
    {
      "cell_type": "code",
      "execution_count": 4,
      "metadata": {},
      "outputs": [
        {
          "name": "stdout",
          "output_type": "stream",
          "text": [
            " quality  quantidade  percentual (%)\n",
            "       3          10            0.63\n",
            "       4          53            3.31\n",
            "       5         681           42.59\n",
            "       6         638           39.90\n",
            "       7         199           12.45\n",
            "       8          18            1.13\n"
          ]
        }
      ],
      "source": [
        "# Converte em porcentagem\n",
        "contagem = dataset['quality'].value_counts().sort_index()\n",
        "\n",
        "# Contagem relativa (em %)\n",
        "percentual = (contagem / contagem.sum() * 100).round(2)\n",
        "\n",
        "# Cria um DataFrame combinado\n",
        "distribuicao = pd.DataFrame({\n",
        "    'quality': contagem.index,\n",
        "    'quantidade': contagem.values,\n",
        "    'percentual (%)': percentual.values\n",
        "})\n",
        "\n",
        "print(distribuicao.to_string(index=False))"
      ]
    },
    {
      "cell_type": "markdown",
      "metadata": {
        "id": "mE4-PIaTAfKX"
      },
      "source": [
        "## Pré Processamento e separação em conjunto de treino e conjunto de teste com holdout"
      ]
    },
    {
      "cell_type": "markdown",
      "metadata": {},
      "source": [
        "Esse parte foi feita para fazer a configuração inicial, separnado nos conjuntos que vão treinar o sistema, atém de separar 20% dos dados para fins de test e ainda colocamos a parte dos parâmetros e partições da validação cruzada"
      ]
    },
    {
      "cell_type": "code",
      "execution_count": null,
      "metadata": {
        "id": "fEiAm3LEAfPt"
      },
      "outputs": [],
      "source": [
        "test_size = 0.20 # tamanho do conjunto de teste\n",
        "seed = 202507 # semente aleatória\n",
        "\n",
        "array = dataset.values\n",
        "\n",
        "# Divide o DataFrame em (X) e (y)\n",
        "X = array[:,0:11]\n",
        "y = array[:,11]\n",
        "\n",
        "# Separação em conjuntos de treino e teste\n",
        "X_train, X_test, y_train, y_test = train_test_split(X, y,\n",
        "    test_size=test_size, shuffle=True, random_state=seed, stratify=y) # holdout com estratificação\n",
        "\n",
        "# Parâmetros e partições da validação cruzada\n",
        "scoring = 'accuracy'\n",
        "num_particoes = 10\n",
        "kfold = StratifiedKFold(n_splits=num_particoes, shuffle=True, random_state=seed) # validação cruzada com estratificação"
      ]
    },
    {
      "cell_type": "markdown",
      "metadata": {
        "id": "f2OGe0DtAfU4"
      },
      "source": [
        "## Modelagem e Inferência"
      ]
    },
    {
      "cell_type": "markdown",
      "metadata": {
        "id": "pwHzQpbX9QQh"
      },
      "source": [
        "### Criação e avaliação de modelos: linha base"
      ]
    },
    {
      "cell_type": "code",
      "execution_count": null,
      "metadata": {},
      "outputs": [],
      "source": [
        "np.random.seed(202507) # definindo uma semente global\n",
        "\n",
        "# Lista que armazenará os modelos\n",
        "models = []\n",
        "\n",
        "# Criando os modelos e adicionando-os na lista de modelos\n",
        "models.append(('LR', LogisticRegression(max_iter=200))) \n",
        "models.append(('KNN', KNeighborsClassifier())) \n",
        "models.append(('CART', DecisionTreeClassifier())) \n",
        "models.append(('NB', GaussianNB()))\n",
        "models.append(('SVM', SVC()))\n",
        "\n",
        "# Definindo os parâmetros do classificador base para o BaggingClassifier\n",
        "base = DecisionTreeClassifier()\n",
        "num_trees = 100\n",
        "max_features = 3\n",
        "\n",
        "# Criando os modelos para o VotingClassifier\n",
        "bases = []\n",
        "model1 = LogisticRegression(max_iter=200)\n",
        "bases.append(('logistic', model1))\n",
        "model2 = DecisionTreeClassifier()\n",
        "bases.append(('cart', model2))\n",
        "model3 = SVC()\n",
        "bases.append(('svm', model3))\n",
        "\n",
        "# Criando os ensembles e adicionando-os na lista de modelos\n",
        "models.append(('Bagging', BaggingClassifier(estimator=base, n_estimators=num_trees)))\n",
        "models.append(('RF', RandomForestClassifier(n_estimators=num_trees, max_features=max_features)))\n",
        "models.append(('ET', ExtraTreesClassifier(n_estimators=num_trees, max_features=max_features)))\n",
        "models.append(('Ada', AdaBoostClassifier(n_estimators=num_trees)))\n",
        "models.append(('GB', GradientBoostingClassifier(n_estimators=num_trees)))\n",
        "models.append(('Voting', VotingClassifier(bases)))\n",
        "\n",
        "# Listas para armazenar os resultados\n",
        "results = []\n",
        "names = []\n",
        "\n",
        "# Avaliação dos modelos (treinamento)\n",
        "for name, model in models:\n",
        "    cv_results = cross_val_score(model, X_train, y_train, cv=kfold, scoring=scoring)\n",
        "    results.append(cv_results)\n",
        "    names.append(name)\n",
        "    msg = \"%s: %f (%f)\" % (name, cv_results.mean(), cv_results.std())\n",
        "    print(msg)\n",
        "\n",
        "# Boxplot de comparação dos modelos\n",
        "fig = plt.figure(figsize=(15,10)) \n",
        "fig.suptitle('Comparação dos Modelos') \n",
        "ax = fig.add_subplot(111) \n",
        "plt.boxplot(results) \n",
        "ax.set_xticklabels(names) \n",
        "plt.show()"
      ]
    },
    {
      "cell_type": "markdown",
      "metadata": {},
      "source": [
        "Ao rodar o codigo acima, percebemos que o melhor foi o Bagging\n",
        " - Acurácia média: 0.676316\n",
        " - Desvio padrão: 0.018088\n",
        " - No boxplot: apresenta mediana alta, variância controlada e poucos outliers.\n",
        "\n",
        "Também apresenta bons resultados nos modelos ET, RF e GB"
      ]
    },
    {
      "cell_type": "markdown",
      "metadata": {
        "id": "olo7SPk2BvvW"
      },
      "source": [
        "### Criação e avaliação de modelos: dados padronizados e normalizados"
      ]
    },
    {
      "cell_type": "code",
      "execution_count": 7,
      "metadata": {},
      "outputs": [
        {
          "name": "stdout",
          "output_type": "stream",
          "text": [
            "LR-orig: 0.580 (0.033)\n",
            "KNN-orig: 0.496 (0.049)\n",
            "CART-orig: 0.590 (0.028)\n",
            "NB-orig: 0.535 (0.031)\n",
            "SVM-orig: 0.500 (0.033)\n",
            "Bag-orig: 0.676 (0.018)\n",
            "RF-orig: 0.686 (0.034)\n",
            "ET-orig: 0.678 (0.031)\n",
            "Ada-orig: 0.496 (0.045)\n",
            "GB-orig: 0.640 (0.038)\n",
            "Vot-orig: 0.594 (0.023)\n",
            "LR-padr: 0.584 (0.028)\n",
            "KNN-padr: 0.564 (0.037)\n",
            "CART-padr: 0.604 (0.038)\n",
            "NB-padr: 0.538 (0.033)\n",
            "SVM-padr: 0.613 (0.029)\n",
            "Bag-padr: 0.673 (0.029)\n",
            "RF-padr: 0.677 (0.025)\n",
            "ET-padr: 0.684 (0.030)\n",
            "Ada-padr: 0.496 (0.045)\n",
            "GB-padr: 0.639 (0.037)\n",
            "Vot-padr: 0.606 (0.035)\n",
            "LR-norm: 0.573 (0.038)\n",
            "KNN-norm: 0.555 (0.029)\n",
            "CART-norm: 0.611 (0.036)\n",
            "NB-norm: 0.538 (0.033)\n",
            "SVM-norm: 0.597 (0.046)\n",
            "Bag-norm: 0.673 (0.021)\n",
            "RF-norm: 0.681 (0.025)\n",
            "ET-norm: 0.689 (0.034)\n",
            "Ada-norm: 0.496 (0.045)\n",
            "GB-norm: 0.640 (0.034)\n",
            "Vot-norm: 0.593 (0.039)\n"
          ]
        },
        {
          "data": {
            "image/png": "[encoded data removed]",
            "text/plain": [
              "<Figure size 2500x600 with 1 Axes>"
            ]
          },
          "metadata": {},
          "output_type": "display_data"
        }
      ],
      "source": [
        "np.random.seed(202507) # definindo uma semente global para este bloco\n",
        "\n",
        "# Listas para armazenar os armazenar os pipelines e os resultados para todas as visões do dataset\n",
        "pipelines = []\n",
        "results = []\n",
        "names = []\n",
        "\n",
        "# Criando os elementos do pipeline\n",
        "\n",
        "# Algoritmos que serão utilizados\n",
        "reg_log = ('LR', LogisticRegression(max_iter=200))\n",
        "knn = ('KNN', KNeighborsClassifier())\n",
        "cart = ('CART', DecisionTreeClassifier())\n",
        "naive_bayes = ('NB', GaussianNB())\n",
        "svm = ('SVM', SVC())\n",
        "bagging = ('Bag', BaggingClassifier(estimator=base, n_estimators=num_trees))\n",
        "random_forest = ('RF', RandomForestClassifier(n_estimators=num_trees, max_features=max_features))\n",
        "extra_trees = ('ET', ExtraTreesClassifier(n_estimators=num_trees, max_features=max_features))\n",
        "adaboost = ('Ada', AdaBoostClassifier(n_estimators=num_trees))\n",
        "gradient_boosting = ('GB', GradientBoostingClassifier(n_estimators=num_trees))\n",
        "voting = ('Voting', VotingClassifier(bases))\n",
        "\n",
        "# Transformações que serão utilizadas\n",
        "standard_scaler = ('StandardScaler', StandardScaler())\n",
        "min_max_scaler = ('MinMaxScaler', MinMaxScaler())\n",
        "\n",
        "# Montando os pipelines\n",
        "\n",
        "# Dataset original\n",
        "pipelines.append(('LR-orig', Pipeline([reg_log]))) \n",
        "pipelines.append(('KNN-orig', Pipeline([knn])))\n",
        "pipelines.append(('CART-orig', Pipeline([cart])))\n",
        "pipelines.append(('NB-orig', Pipeline([naive_bayes])))\n",
        "pipelines.append(('SVM-orig', Pipeline([svm])))\n",
        "pipelines.append(('Bag-orig', Pipeline([bagging])))\n",
        "pipelines.append(('RF-orig', Pipeline([random_forest])))\n",
        "pipelines.append(('ET-orig', Pipeline([extra_trees])))\n",
        "pipelines.append(('Ada-orig', Pipeline([adaboost])))\n",
        "pipelines.append(('GB-orig', Pipeline([gradient_boosting])))\n",
        "pipelines.append(('Vot-orig', Pipeline([voting])))\n",
        "\n",
        "# Dataset Padronizado\n",
        "pipelines.append(('LR-padr', Pipeline([standard_scaler, reg_log]))) \n",
        "pipelines.append(('KNN-padr', Pipeline([standard_scaler, knn])))\n",
        "pipelines.append(('CART-padr', Pipeline([standard_scaler, cart])))\n",
        "pipelines.append(('NB-padr', Pipeline([standard_scaler, naive_bayes])))\n",
        "pipelines.append(('SVM-padr', Pipeline([standard_scaler, svm])))\n",
        "pipelines.append(('Bag-padr', Pipeline([standard_scaler, bagging]))) \n",
        "pipelines.append(('RF-padr', Pipeline([standard_scaler, random_forest])))\n",
        "pipelines.append(('ET-padr', Pipeline([standard_scaler, extra_trees])))\n",
        "pipelines.append(('Ada-padr', Pipeline([standard_scaler, adaboost])))\n",
        "pipelines.append(('GB-padr', Pipeline([standard_scaler, gradient_boosting])))\n",
        "pipelines.append(('Vot-padr', Pipeline([standard_scaler, voting])))\n",
        "\n",
        "# Dataset Normalizado\n",
        "pipelines.append(('LR-norm', Pipeline([min_max_scaler, reg_log]))) \n",
        "pipelines.append(('KNN-norm', Pipeline([min_max_scaler, knn])))\n",
        "pipelines.append(('CART-norm', Pipeline([min_max_scaler, cart])))\n",
        "pipelines.append(('NB-norm', Pipeline([min_max_scaler, naive_bayes])))\n",
        "pipelines.append(('SVM-norm', Pipeline([min_max_scaler, svm])))\n",
        "pipelines.append(('Bag-norm', Pipeline([min_max_scaler, bagging]))) \n",
        "pipelines.append(('RF-norm', Pipeline([min_max_scaler, random_forest])))\n",
        "pipelines.append(('ET-norm', Pipeline([min_max_scaler, extra_trees])))\n",
        "pipelines.append(('Ada-norm', Pipeline([min_max_scaler, adaboost])))\n",
        "pipelines.append(('GB-norm', Pipeline([min_max_scaler, gradient_boosting])))\n",
        "pipelines.append(('Vot-norm', Pipeline([min_max_scaler, voting])))\n",
        "\n",
        "# Executando os pipelines\n",
        "for name, model in pipelines:\n",
        "    cv_results = cross_val_score(model, X_train, y_train, cv=kfold, scoring=scoring)\n",
        "    results.append(cv_results)\n",
        "    names.append(name)\n",
        "    msg = \"%s: %.3f (%.3f)\" % (name, cv_results.mean(), cv_results.std())\n",
        "    print(msg)\n",
        "\n",
        "# Boxplot de comparação dos modelos\n",
        "fig = plt.figure(figsize=(25,6))\n",
        "fig.suptitle('Comparação dos Modelos - Dataset orginal, padronizado e normalizado') \n",
        "ax = fig.add_subplot(111) \n",
        "plt.boxplot(results) \n",
        "ax.set_xticklabels(names, rotation=90)\n",
        "plt.show()"
      ]
    },
    {
      "cell_type": "markdown",
      "metadata": {},
      "source": [
        "Após rodar esse trecho obtive os seguintes resultados:\n",
        "\n",
        "Tipo - Melhor Modelo - Acurácia Média (± Desvio)\n",
        " - orig - RF (Random Forest) - 0.686 ± 0.034\n",
        " - padr - ET (Extra Trees) - 0.684 ± 0.030\n",
        " - padr - Bag (Baagging) - 0.679 ± 0.019\n",
        " - norm - ET (Extra Trees) - 0.689 ± 0.034\n",
        "\n",
        "Decidi seguir com o modelo do BaggingClassifier padr, mesmo não sendo o que teve a maior acuracia, porem teve a menor variação\n",
        "\n",
        "Resolvi seguir por esse caminho, devido a velocidade. Pq quando testei com os outros no local acabou gerando um atraso"
      ]
    },
    {
      "cell_type": "code",
      "execution_count": null,
      "metadata": {},
      "outputs": [],
      "source": [
        "np.random.seed(202507)  # Definindo uma semente global para este bloco\n",
        "\n",
        "# Lista de modelos\n",
        "models = []\n",
        "\n",
        "# Criando os modelos e adicionando-os na lista de modelos\n",
        "models.append(('LR', LogisticRegression(max_iter=200))) \n",
        "models.append(('KNN', KNeighborsClassifier())) \n",
        "models.append(('CART', DecisionTreeClassifier())) \n",
        "models.append(('NB', GaussianNB()))\n",
        "models.append(('SVM', SVC()))\n",
        "\n",
        "# Definindo os parâmetros do classificador base para o BaggingClassifier\n",
        "base = DecisionTreeClassifier()\n",
        "num_trees = 100\n",
        "max_features = 3\n",
        "\n",
        "# Criando os modelos para o VotingClassifier\n",
        "bases = []\n",
        "model1 = LogisticRegression(max_iter=200)\n",
        "bases.append(('logistic', model1))\n",
        "model2 = DecisionTreeClassifier()\n",
        "bases.append(('cart', model2))\n",
        "model3 = SVC()\n",
        "bases.append(('svm', model3))\n",
        "\n",
        "# Criando os ensembles e adicionando-os na lista de modelos\n",
        "models.append(('Bagging', BaggingClassifier(estimator=base, n_estimators=num_trees)))\n",
        "models.append(('RF', RandomForestClassifier(n_estimators=num_trees, max_features=max_features)))\n",
        "models.append(('ET', ExtraTreesClassifier(n_estimators=num_trees, max_features=max_features)))\n",
        "models.append(('Ada', AdaBoostClassifier(n_estimators=num_trees)))\n",
        "models.append(('GB', GradientBoostingClassifier(n_estimators=num_trees)))\n",
        "models.append(('Voting', VotingClassifier(estimators=bases, voting='hard')))\n",
        "\n",
        "# Definindo os componentes do pipeline\n",
        "standard_scaler = ('StandardScaler', StandardScaler())\n",
        "min_max_scaler = ('MinMaxScaler', MinMaxScaler())\n",
        "\n",
        "# Lista de pipelines\n",
        "pipelines = []\n",
        "\n",
        "# Criando pipelines para cada modelo\n",
        "for name, model in models:\n",
        "    pipelines.append((name + '-orig', Pipeline(steps=[(name, model)])))\n",
        "    pipelines.append((name + '-padr', Pipeline(steps=[standard_scaler, (name, model)])))\n",
        "    pipelines.append((name + '-norm', Pipeline(steps=[min_max_scaler, (name, model)])))\n",
        "\n",
        "# Definindo os parâmetros para GridSearchCV\n",
        "param_grids = {\n",
        "    'LR': {\n",
        "        'LR__C': [0.01, 0.1, 1, 10, 100],\n",
        "        'LR__solver': ['liblinear', 'saga']\n",
        "    },\n",
        "    'KNN': {\n",
        "        'KNN__n_neighbors': [1, 3, 5, 7, 9, 11, 13, 15, 17, 19, 21],\n",
        "        'KNN__metric': [\"euclidean\", \"manhattan\", \"minkowski\"]\n",
        "    },\n",
        "    'CART': {\n",
        "        'CART__max_depth': [None, 10, 20, 30, 40, 50],\n",
        "        'CART__min_samples_split': [2, 5, 10],\n",
        "        'CART__min_samples_leaf': [1, 2, 4]\n",
        "    },\n",
        "    'NB': {\n",
        "        'NB__var_smoothing': [1e-9, 1e-8, 1e-7, 1e-6, 1e-5]\n",
        "    },\n",
        "    'SVM': {\n",
        "        'SVM__C': [0.1, 1, 10, 100],\n",
        "        'SVM__gamma': [1, 0.1, 0.01, 0.001],\n",
        "    },\n",
        "    'RF': {\n",
        "        'RF__n_estimators': [10, 50, 100, 200],\n",
        "        'RF__max_features': ['auto', 'sqrt', 'log2'],\n",
        "        'RF__max_depth': [None, 10, 20, 30],\n",
        "        'RF__min_samples_split': [2, 5, 10],\n",
        "        'RF__min_samples_leaf': [1, 2, 4]\n",
        "    },\n",
        "    'ET': {\n",
        "        'ET__n_estimators': [10, 50, 100, 200],\n",
        "        'ET__max_features': ['auto', 'sqrt', 'log2'],\n",
        "        'ET__max_depth': [None, 10, 20, 30],\n",
        "        'ET__min_samples_split': [2, 5, 10],\n",
        "        'ET__min_samples_leaf': [1, 2, 4]\n",
        "    },\n",
        "    'Ada': {\n",
        "        'Ada__n_estimators': [10, 50, 100, 200],\n",
        "        'Ada__learning_rate': [0.01, 0.1, 1, 10]\n",
        "    },\n",
        "    'GB': {\n",
        "        'GB__n_estimators': [10, 50, 100, 200],\n",
        "        'GB__learning_rate': [0.01, 0.1, 0.2, 0.3],\n",
        "        'GB__max_depth': [3, 5, 7, 9]\n",
        "    },\n",
        "    'Voting': {}\n",
        "}\n",
        "\n",
        "# Parâmetros de cross-validation e scoring\n",
        "scoring = 'accuracy'\n",
        "kfold = 5\n",
        "\n",
        "# Executando o GridSearchCV para cada pipeline\n",
        "for name, pipeline in pipelines:\n",
        "    model_type = name.split('-')[0]\n",
        "    if model_type in param_grids:\n",
        "        param_grid = param_grids[model_type]\n",
        "    else:\n",
        "        param_grid = {}  # Para modelos que não têm parâmetros definidos\n",
        "\n",
        "    grid = GridSearchCV(estimator=pipeline, param_grid=param_grid, scoring=scoring, cv=kfold)\n",
        "    grid.fit(X_train, y_train)\n",
        "    # Imprimindo a melhor configuração\n",
        "    print(\"Modelo: %s - Melhor: %f usando %s\" % (name, grid.best_score_, grid.best_params_))"
      ]
    },
    {
      "cell_type": "markdown",
      "metadata": {},
      "source": [
        "Modelo: Bagging-orig - Melhor: 0.676317 usando {}\n",
        "\n",
        "Os modelos depois de testar com todos os hiperparametros, pecebi que houve uma melhora com eles, porém para os casos dos Bagging, RF, ET, Ada, GB e Voting sem usar nenhum parametro ou usando acaba gerando um ganho muito pequeno e gera uma maior demora para rodar o projeto. Então visto custo (tempo x acuracia), decidi usar o mais simples para fins de facilitar no trabalho"
      ]
    },
    {
      "cell_type": "markdown",
      "metadata": {},
      "source": [
        "### Otimização com hiperparâmetros"
      ]
    },
    {
      "cell_type": "markdown",
      "metadata": {},
      "source": [
        "#### Otimização do AdaBoost"
      ]
    },
    {
      "cell_type": "code",
      "execution_count": null,
      "metadata": {},
      "outputs": [],
      "source": [
        "pipeline_ada_orig = Pipeline(steps=[('Ada', AdaBoostClassifier())])\n",
        "pipeline_ada_padr = Pipeline(steps=[('StandardScaler', StandardScaler()), ('Ada', AdaBoostClassifier())])\n",
        "pipeline_ada_norm = Pipeline(steps=[('MinMaxScaler', MinMaxScaler()), ('Ada', AdaBoostClassifier())])\n",
        "\n",
        "param_grid_ada = {\n",
        "    'Ada__n_estimators': [10, 50, 100, 200],\n",
        "    'Ada__learning_rate': [0.01, 0.1, 1, 10]\n",
        "}\n",
        "\n",
        "for pipeline, label in zip([pipeline_ada_orig, pipeline_ada_padr, pipeline_ada_norm], ['orig', 'padr', 'norm']):\n",
        "    grid = GridSearchCV(estimator=pipeline, param_grid=param_grid_ada, scoring='accuracy', cv=5)\n",
        "    grid.fit(X_train, y_train)\n",
        "    print(f\"Modelo: Ada-{label} - Melhor: {grid.best_score_:.4f} usando {grid.best_params_}\")"
      ]
    },
    {
      "cell_type": "markdown",
      "metadata": {},
      "source": [
        "Testamos o modelo **AdaBoost** com três versões dos dados:\n",
        "\n",
        "- **Ada-orig**: dados originais, sem transformação  \n",
        "- **Ada-padr**: dados padronizados (média 0 e desvio padrão 1)  \n",
        "- **Ada-norm**: dados normalizados (valores entre 0 e 1)\n",
        "\n",
        "Em todos os casos, o melhor resultado foi:\n",
        "\n",
        "- **Score**: `0.5676`\n",
        "- **Parâmetros**: `learning_rate = 0.1`, `n_estimators = 50`\n",
        "- **Tempo**: 50s\n",
        "\n",
        "📌 **Conclusão**: O desempenho do AdaBoost foi o mesmo com dados crus, padronizados ou normalizados. Isso mostra que, para este caso, o tipo de pré-processamento dos dados não influenciou o resultado final."
      ]
    },
    {
      "cell_type": "markdown",
      "metadata": {},
      "source": [
        "#### Otimização do Random Forest"
      ]
    },
    {
      "cell_type": "code",
      "execution_count": 9,
      "metadata": {},
      "outputs": [
        {
          "name": "stdout",
          "output_type": "stream",
          "text": [
            "Modelo: RF-orig - Melhor: 0.6935 usando {'RF__max_depth': 20, 'RF__max_features': 'log2', 'RF__min_samples_leaf': 1, 'RF__min_samples_split': 2, 'RF__n_estimators': 200}\n",
            "Modelo: RF-padr - Melhor: 0.6904 usando {'RF__max_depth': 30, 'RF__max_features': 'log2', 'RF__min_samples_leaf': 2, 'RF__min_samples_split': 5, 'RF__n_estimators': 200}\n",
            "Modelo: RF-norm - Melhor: 0.6927 usando {'RF__max_depth': 30, 'RF__max_features': 'log2', 'RF__min_samples_leaf': 1, 'RF__min_samples_split': 5, 'RF__n_estimators': 100}\n"
          ]
        }
      ],
      "source": [
        "# Random Forest\n",
        "pipeline_rf_orig = Pipeline(steps=[('RF', RandomForestClassifier())])\n",
        "pipeline_rf_padr = Pipeline(steps=[('StandardScaler', StandardScaler()), ('RF', RandomForestClassifier())])\n",
        "pipeline_rf_norm = Pipeline(steps=[('MinMaxScaler', MinMaxScaler()), ('RF', RandomForestClassifier())])\n",
        "\n",
        "param_grid_rf = {\n",
        "    'RF__n_estimators': [10, 50, 100, 200],\n",
        "    'RF__max_features': ['auto', 'sqrt', 'log2'],\n",
        "    'RF__max_depth': [None, 10, 20, 30],\n",
        "    'RF__min_samples_split': [2, 5, 10],\n",
        "    'RF__min_samples_leaf': [1, 2, 4]\n",
        "}\n",
        "\n",
        "for pipeline, label in zip([pipeline_rf_orig, pipeline_rf_padr, pipeline_rf_norm], ['orig', 'padr', 'norm']):\n",
        "    grid = GridSearchCV(estimator=pipeline, param_grid=param_grid_rf, scoring='accuracy', cv=5)\n",
        "    grid.fit(X_train, y_train)\n",
        "    print(f\"Modelo: RF-{label} - Melhor: {grid.best_score_:.4f} usando {grid.best_params_}\")"
      ]
    },
    {
      "cell_type": "markdown",
      "metadata": {},
      "source": [
        "O modelo **Random Forest** foi testado com três variações dos dados:\n",
        "\n",
        "- **RF-orig**: dados originais, sem transformação  \n",
        "- **RF-padr**: dados padronizados (média 0 e desvio padrão 1)  \n",
        "- **RF-norm**: dados normalizados (valores entre 0 e 1)\n",
        "\n",
        "Os melhores resultados de cada versão foram:\n",
        "\n",
        "- **RF-orig**: `0.6935`  \n",
        "  - Parâmetros: `max_depth=20`, `max_features='log2'`, `min_samples_leaf=1`, `min_samples_split=2`, `n_estimators=200`\n",
        "  \n",
        "- **RF-padr**: `0.6904`  \n",
        "  - Parâmetros: `max_depth=30`, `max_features='log2'`, `min_samples_leaf=2`, `min_samples_split=5`, `n_estimators=200`\n",
        "\n",
        "- **RF-norm**: `0.6927`  \n",
        "  - Parâmetros: `max_depth=30`, `max_features='log2'`, `min_samples_leaf=1`, `min_samples_split=5`, `n_estimators=100`\n",
        "\n",
        "- **Tempo**: 10m 10s\n",
        "\n",
        "📌 **Conclusão**: O melhor desempenho foi com os **dados originais**, mas as diferenças entre as versões foram pequenas. Isso indica que o modelo Random Forest é pouco sensível ao tipo de pré-processamento aplicado aos dados neste caso."
      ]
    },
    {
      "cell_type": "markdown",
      "metadata": {},
      "source": [
        "#### Otimização do LR"
      ]
    },
    {
      "cell_type": "code",
      "execution_count": 10,
      "metadata": {},
      "outputs": [
        {
          "name": "stdout",
          "output_type": "stream",
          "text": [
            "Modelo: LR-orig - Melhor: 0.5864 usando {'LR__C': 100, 'LR__solver': 'liblinear'}\n",
            "Modelo: LR-padr - Melhor: 0.6005 usando {'LR__C': 0.1, 'LR__solver': 'saga'}\n",
            "Modelo: LR-norm - Melhor: 0.5981 usando {'LR__C': 10, 'LR__solver': 'saga'}\n"
          ]
        }
      ],
      "source": [
        "# Otimização LR - Logistic Regression\n",
        "pipeline_lr_orig = Pipeline(steps=[('LR', LogisticRegression(max_iter=200))])\n",
        "pipeline_lr_padr = Pipeline(steps=[('StandardScaler', StandardScaler()), ('LR', LogisticRegression(max_iter=200))])\n",
        "pipeline_lr_norm = Pipeline(steps=[('MinMaxScaler', MinMaxScaler()), ('LR', LogisticRegression(max_iter=200))])\n",
        "\n",
        "param_grid_lr = {\n",
        "    'LR__C': [0.01, 0.1, 1, 10, 100],\n",
        "    'LR__solver': ['liblinear', 'saga']\n",
        "}\n",
        "\n",
        "for pipeline, label in zip([pipeline_lr_orig, pipeline_lr_padr, pipeline_lr_norm], ['orig', 'padr', 'norm']):\n",
        "    grid = GridSearchCV(estimator=pipeline, param_grid=param_grid_lr, scoring='accuracy', cv=5)\n",
        "    grid.fit(X_train, y_train)\n",
        "    print(f\"Modelo: LR-{label} - Melhor: {grid.best_score_:.4f} usando {grid.best_params_}\")"
      ]
    },
    {
      "cell_type": "markdown",
      "metadata": {},
      "source": [
        "O modelo **Logistic Regression** foi avaliado com três formas de tratamento dos dados:\n",
        "\n",
        "- **LR-orig**: dados originais, sem transformação  \n",
        "- **LR-padr**: dados padronizados (média 0 e desvio padrão 1)  \n",
        "- **LR-norm**: dados normalizados (valores entre 0 e 1)\n",
        "\n",
        "Melhores resultados obtidos:\n",
        "\n",
        "- **LR-orig**: `0.5864`  \n",
        "  - Parâmetros: `C=100`, `solver='liblinear'`\n",
        "\n",
        "- **LR-padr**: `0.6005`  \n",
        "  - Parâmetros: `C=0.1`, `solver='saga'`\n",
        "\n",
        "- **LR-norm**: `0.5981`  \n",
        "  - Parâmetros: `C=10`, `solver='saga'`\n",
        "\n",
        "- **Tempo**: 40s\n",
        "\n",
        "📌 **Conclusão**: A melhor performance foi com **dados padronizados**, mostrando que esse tipo de pré-processamento ajuda a melhorar o desempenho da Regressão Logística. Isso faz sentido, já que o modelo é sensível à escala das variáveis.\n"
      ]
    },
    {
      "cell_type": "markdown",
      "metadata": {},
      "source": [
        "#### Otimização do CART"
      ]
    },
    {
      "cell_type": "code",
      "execution_count": 11,
      "metadata": {},
      "outputs": [
        {
          "name": "stdout",
          "output_type": "stream",
          "text": [
            "Modelo: CART-orig - Melhor: 0.5966 usando {'CART__max_depth': 20, 'CART__min_samples_leaf': 1, 'CART__min_samples_split': 2}\n",
            "Modelo: CART-padr - Melhor: 0.6012 usando {'CART__max_depth': 40, 'CART__min_samples_leaf': 1, 'CART__min_samples_split': 2}\n",
            "Modelo: CART-norm - Melhor: 0.6052 usando {'CART__max_depth': None, 'CART__min_samples_leaf': 1, 'CART__min_samples_split': 2}\n"
          ]
        }
      ],
      "source": [
        "pipeline_cart_orig = Pipeline(steps=[('CART', DecisionTreeClassifier())])\n",
        "pipeline_cart_padr = Pipeline(steps=[('StandardScaler', StandardScaler()), ('CART', DecisionTreeClassifier())])\n",
        "pipeline_cart_norm = Pipeline(steps=[('MinMaxScaler', MinMaxScaler()), ('CART', DecisionTreeClassifier())])\n",
        "\n",
        "param_grid_cart = {\n",
        "    'CART__max_depth': [None, 10, 20, 30, 40, 50],\n",
        "    'CART__min_samples_split': [2, 5, 10],\n",
        "    'CART__min_samples_leaf': [1, 2, 4]\n",
        "}\n",
        "\n",
        "for pipeline, label in zip([pipeline_cart_orig, pipeline_cart_padr, pipeline_cart_norm], ['orig', 'padr', 'norm']):\n",
        "    grid = GridSearchCV(estimator=pipeline, param_grid=param_grid_cart, scoring='accuracy', cv=5)\n",
        "    grid.fit(X_train, y_train)\n",
        "    print(f\"Modelo: CART-{label} - Melhor: {grid.best_score_:.4f} usando {grid.best_params_}\")"
      ]
    },
    {
      "cell_type": "markdown",
      "metadata": {},
      "source": [
        "O modelo **CART** foi testado com três formas de entrada dos dados:\n",
        "\n",
        "- **CART-orig**: dados originais, sem transformação  \n",
        "- **CART-padr**: dados padronizados (média 0 e desvio padrão 1)  \n",
        "- **CART-norm**: dados normalizados (valores entre 0 e 1)\n",
        "\n",
        "Melhores resultados:\n",
        "\n",
        "- **CART-orig**: `0.5966`  \n",
        "  - Parâmetros: `max_depth=20`, `min_samples_leaf=1`, `min_samples_split=2`\n",
        "\n",
        "- **CART-padr**: `0.6012`  \n",
        "  - Parâmetros: `max_depth=40`, `min_samples_leaf=1`, `min_samples_split=2`\n",
        "\n",
        "- **CART-norm**: `0.6052`  \n",
        "  - Parâmetros: `max_depth=None`, `min_samples_leaf=1`, `min_samples_split=2`\n",
        "\n",
        "- **Tempo**: 7s\n",
        "\n",
        "📌 **Conclusão**: O melhor desempenho foi com **dados normalizados**, mas a diferença entre as versões foi pequena. Isso mostra que o modelo de árvore de decisão tem desempenho relativamente estável, mas pode se beneficiar de um leve pré-processamento nos dados."
      ]
    },
    {
      "cell_type": "markdown",
      "metadata": {},
      "source": [
        "#### Otimização do Bagging"
      ]
    },
    {
      "cell_type": "code",
      "execution_count": 12,
      "metadata": {},
      "outputs": [
        {
          "name": "stdout",
          "output_type": "stream",
          "text": [
            "Modelo: Bagging-orig - Melhor: 0.6623 usando {}\n",
            "Modelo: Bagging-padr - Melhor: 0.6755 usando {}\n",
            "Modelo: Bagging-norm - Melhor: 0.6724 usando {}\n"
          ]
        }
      ],
      "source": [
        "base_estimator = DecisionTreeClassifier()\n",
        "pipeline_bagging_orig = Pipeline(steps=[('Bagging', BaggingClassifier(estimator=base_estimator, n_estimators=100))])\n",
        "pipeline_bagging_padr = Pipeline(steps=[('StandardScaler', StandardScaler()), ('Bagging', BaggingClassifier(estimator=base_estimator, n_estimators=100))])\n",
        "pipeline_bagging_norm = Pipeline(steps=[('MinMaxScaler', MinMaxScaler()), ('Bagging', BaggingClassifier(estimator=base_estimator, n_estimators=100))])\n",
        "\n",
        "# Sem parâmetros para ajustar neste caso\n",
        "param_grid_bagging = {}\n",
        "\n",
        "for pipeline, label in zip([pipeline_bagging_orig, pipeline_bagging_padr, pipeline_bagging_norm], ['orig', 'padr', 'norm']):\n",
        "    grid = GridSearchCV(estimator=pipeline, param_grid=param_grid_bagging, scoring='accuracy', cv=5)\n",
        "    grid.fit(X_train, y_train)\n",
        "    print(f\"Modelo: Bagging-{label} - Melhor: {grid.best_score_:.4f} usando {grid.best_params_}\")"
      ]
    },
    {
      "cell_type": "markdown",
      "metadata": {},
      "source": [
        "O modelo **Bagging** foi avaliado com três tipos de dados:\n",
        "\n",
        "- **Bagging-orig**: dados originais, sem transformação  \n",
        "- **Bagging-padr**: dados padronizados (média 0 e desvio padrão 1)  \n",
        "- **Bagging-norm**: dados normalizados (valores entre 0 e 1)\n",
        "\n",
        "Melhores resultados:\n",
        "\n",
        "- **Bagging-orig**: `0.6623`\n",
        "- **Bagging-padr**: `0.6755`\n",
        "- **Bagging-norm**: `0.6724`\n",
        "- **Tempo**: 8s\n",
        "\n",
        "📌 **Conclusão**: O melhor desempenho foi com **dados padronizados**, mas os resultados com dados normalizados também foram muito próximos. Isso sugere que o Bagging pode se beneficiar de um leve pré-processamento, embora funcione bem até mesmo com os dados originais."
      ]
    },
    {
      "cell_type": "markdown",
      "metadata": {},
      "source": [
        "#### Otimização do KNN"
      ]
    },
    {
      "cell_type": "code",
      "execution_count": 13,
      "metadata": {
        "colab": {
          "base_uri": "https://localhost:8080/"
        },
        "id": "jBSDgpXNt1Fp",
        "outputId": "579ed35a-c508-4730-d993-d01914fddf5f"
      },
      "outputs": [
        {
          "name": "stdout",
          "output_type": "stream",
          "text": [
            "Resultado: knn-orig - Melhor: 0.574705 usando {'KNN__metric': 'manhattan', 'KNN__n_neighbors': 1}\n",
            "Resultado: knn-padr - Melhor: 0.623161 usando {'KNN__metric': 'euclidean', 'KNN__n_neighbors': 1}\n",
            "Resultado: knn-norm - Melhor: 0.620011 usando {'KNN__metric': 'manhattan', 'KNN__n_neighbors': 1}\n"
          ]
        }
      ],
      "source": [
        "# Tuning do KNN\n",
        "\n",
        "np.random.seed(202507) # definindo uma semente global para este bloco\n",
        "\n",
        "pipelines = []\n",
        "\n",
        "# Definindo os componentes do pipeline\n",
        "knn = ('KNN', KNeighborsClassifier())\n",
        "standard_scaler = ('StandardScaler', StandardScaler())\n",
        "min_max_scaler = ('MinMaxScaler', MinMaxScaler())\n",
        "\n",
        "pipelines.append(('knn-orig', Pipeline(steps=[knn])))\n",
        "pipelines.append(('knn-padr', Pipeline(steps=[standard_scaler, knn])))\n",
        "pipelines.append(('knn-norm', Pipeline(steps=[min_max_scaler, knn])))\n",
        "\n",
        "param_grid = {\n",
        "    'KNN__n_neighbors': [1,3,5,7,9,11,13,15,17,19,21],\n",
        "    'KNN__metric': [\"euclidean\", \"manhattan\", \"minkowski\"],\n",
        "}\n",
        "\n",
        "# Prepara e executa o GridSearchCV\n",
        "for name, model in pipelines:\n",
        "    grid = GridSearchCV(estimator=model, param_grid=param_grid, scoring=scoring, cv=kfold)\n",
        "    grid.fit(X_train, y_train)\n",
        "    # imprime a melhor configuração\n",
        "    print(\"Resultado: %s - Melhor: %f usando %s\" % (name, grid.best_score_, grid.best_params_))"
      ]
    },
    {
      "cell_type": "markdown",
      "metadata": {},
      "source": [
        "O modelo **KNN** foi testado com três versões dos dados:\n",
        "\n",
        "- **KNN-orig**: dados originais, sem transformação  \n",
        "- **KNN-padr**: dados padronizados (média 0 e desvio padrão 1)  \n",
        "- **KNN-norm**: dados normalizados (valores entre 0 e 1)\n",
        "\n",
        "Melhores resultados:\n",
        "\n",
        "- **KNN-orig**: `0.5747`  \n",
        "  - Parâmetros: `n_neighbors=1`, `metric='manhattan'`\n",
        "\n",
        "- **KNN-padr**: `0.6232`  \n",
        "  - Parâmetros: `n_neighbors=1`, `metric='euclidean'`\n",
        "\n",
        "- **KNN-norm**: `0.6200`  \n",
        "  - Parâmetros: `n_neighbors=1`, `metric='manhattan'`\n",
        "\n",
        "- **Tempo**: 5s\n",
        "\n",
        "📌 **Conclusão**: O **melhor resultado foi com dados padronizados**, seguido de perto pelos dados normalizados. Isso reforça que o KNN depende fortemente da escala dos dados e se beneficia bastante de um bom pré-processamento."
      ]
    },
    {
      "cell_type": "markdown",
      "metadata": {
        "id": "B94q4_Q9qxKO"
      },
      "source": [
        "#### Otimização do SVM"
      ]
    },
    {
      "cell_type": "code",
      "execution_count": 14,
      "metadata": {
        "colab": {
          "base_uri": "https://localhost:8080/"
        },
        "id": "5R_s2QplqVGD",
        "outputId": "1c16162f-365a-4c59-a44e-7cca0a2e0055"
      },
      "outputs": [
        {
          "name": "stdout",
          "output_type": "stream",
          "text": [
            "Resultado: svm-orig - Melhor: 0.580967 usando {'SVM__C': 100, 'SVM__gamma': 0.1}\n",
            "Resultado: svm-padr - Melhor: 0.646610 usando {'SVM__C': 1, 'SVM__gamma': 1}\n",
            "Resultado: svm-norm - Melhor: 0.598899 usando {'SVM__C': 100, 'SVM__gamma': 1}\n"
          ]
        }
      ],
      "source": [
        "# Tuning do SVM\n",
        "\n",
        "np.random.seed(202507) # definindo uma semente global para este bloco\n",
        "\n",
        "pipelines = []\n",
        "\n",
        "# Definindo os componentes do pipeline\n",
        "svm = ('SVM', SVC())\n",
        "standard_scaler = ('StandardScaler', StandardScaler())\n",
        "min_max_scaler = ('MinMaxScaler', MinMaxScaler())\n",
        "\n",
        "pipelines.append(('svm-orig', Pipeline(steps=[svm])))\n",
        "pipelines.append(('svm-padr', Pipeline(steps=[standard_scaler, svm])))\n",
        "pipelines.append(('svm-norm', Pipeline(steps=[min_max_scaler, svm])))\n",
        "\n",
        "param_grid = {\n",
        "    'SVM__C': [0.1, 1, 10, 100],\n",
        "    'SVM__gamma': [1, 0.1, 0.01, 0.001]\n",
        "}\n",
        "\n",
        "# Prepara e executa o GridSearchCV\n",
        "for name, model in pipelines:\n",
        "    grid = GridSearchCV(estimator=model, param_grid=param_grid, scoring=scoring, cv=kfold)\n",
        "    grid.fit(X_train, y_train)\n",
        "    # imprime a melhor configuração\n",
        "    print(\"Resultado: %s - Melhor: %f usando %s\" % (name, grid.best_score_, grid.best_params_))"
      ]
    },
    {
      "cell_type": "markdown",
      "metadata": {},
      "source": [
        "O modelo **SVM** foi testado com três versões dos dados:\n",
        "\n",
        "- **SVM-orig**: dados originais, sem transformação  \n",
        "- **SVM-padr**: dados padronizados (média 0 e desvio padrão 1)  \n",
        "- **SVM-norm**: dados normalizados (valores entre 0 e 1)\n",
        "\n",
        "Melhores resultados:\n",
        "\n",
        "- **SVM-orig**: `0.5810`  \n",
        "  - Parâmetros: `C=100`, `gamma=0.1`\n",
        "\n",
        "- **SVM-padr**: `0.6466`  \n",
        "  - Parâmetros: `C=1`, `gamma=1`\n",
        "\n",
        "- **SVM-norm**: `0.5989`  \n",
        "  - Parâmetros: `C=100`, `gamma=1`\n",
        "\n",
        "- **Tempo**: 23s\n",
        "\n",
        "📌 **Conclusão**: O melhor resultado foi com **dados padronizados**, mostrando que o SVM é bastante sensível à escala das variáveis. Com o pré-processamento adequado, o desempenho melhora significativamente."
      ]
    },
    {
      "cell_type": "markdown",
      "metadata": {
        "id": "8AleaEcbERmT"
      },
      "source": [
        "#### Otimização do Naive Bayes"
      ]
    },
    {
      "cell_type": "code",
      "execution_count": 15,
      "metadata": {
        "colab": {
          "base_uri": "https://localhost:8080/"
        },
        "id": "ZOY69ZQlEWZB",
        "outputId": "6122efda-6213-48a3-fe75-1d1a6ee68a67"
      },
      "outputs": [
        {
          "name": "stdout",
          "output_type": "stream",
          "text": [
            "Resultado: nb-orig - Melhor: 0.551193 usando {'NB__var_smoothing': 1e-05}\n",
            "Resultado: nb-padr - Melhor: 0.537906 usando {'NB__var_smoothing': 1e-09}\n",
            "Resultado: nb-norm - Melhor: 0.537906 usando {'NB__var_smoothing': 1e-09}\n"
          ]
        }
      ],
      "source": [
        "# Tuning do Gaussian Naive Bayes\n",
        "\n",
        "np.random.seed(202507) # definindo uma semente global para este bloco\n",
        "\n",
        "pipelines = []\n",
        "\n",
        "# Definindo os componentes do pipeline\n",
        "nb = ('NB', GaussianNB())\n",
        "standard_scaler = ('StandardScaler', StandardScaler())\n",
        "min_max_scaler = ('MinMaxScaler', MinMaxScaler())\n",
        "\n",
        "pipelines.append(('nb-orig', Pipeline(steps=[nb])))\n",
        "pipelines.append(('nb-padr', Pipeline(steps=[standard_scaler, nb])))\n",
        "pipelines.append(('nb-norm', Pipeline(steps=[min_max_scaler, nb])))\n",
        "\n",
        "param_grid = {\n",
        "    'NB__var_smoothing': [1e-9, 1e-8, 1e-7, 1e-6, 1e-5]\n",
        "}\n",
        "\n",
        "# Prepara e executa o GridSearchCV\n",
        "for name, model in pipelines:\n",
        "    grid = GridSearchCV(estimator=model, param_grid=param_grid, scoring=scoring, cv=kfold)\n",
        "    grid.fit(X_train, y_train)\n",
        "    # imprime a melhor configuração\n",
        "    print(\"Resultado: %s - Melhor: %f usando %s\" % (name, grid.best_score_, grid.best_params_))"
      ]
    },
    {
      "cell_type": "markdown",
      "metadata": {},
      "source": [
        "O modelo **Naive Bayes** foi testado com três tipos de dados:\n",
        "\n",
        "- **NB-orig**: dados originais, sem transformação  \n",
        "- **NB-padr**: dados padronizados (média 0 e desvio padrão 1)  \n",
        "- **NB-norm**: dados normalizados (valores entre 0 e 1)\n",
        "\n",
        "Melhores resultados:\n",
        "\n",
        "- **NB-orig**: `0.5512`  \n",
        "  - Parâmetros: `var_smoothing=1e-5`\n",
        "\n",
        "- **NB-padr**: `0.5379`  \n",
        "  - Parâmetros: `var_smoothing=1e-9`\n",
        "\n",
        "- **NB-norm**: `0.5379`  \n",
        "  - Parâmetros: `var_smoothing=1e-9`\n",
        "\n",
        "- **Tempo**: 1s\n",
        "\n",
        "📌 **Conclusão**: O melhor desempenho foi com os dados originais. O Naive Bayes parece ser pouco beneficiado pelo pré-processamento de padronização ou normalização neste conjunto de dados."
      ]
    },
    {
      "cell_type": "markdown",
      "metadata": {
        "id": "4oCyStNI_PIZ"
      },
      "source": [
        "#### Otimização da Árvore de Decisão"
      ]
    },
    {
      "cell_type": "code",
      "execution_count": 16,
      "metadata": {
        "colab": {
          "base_uri": "https://localhost:8080/"
        },
        "id": "7TKgalQT_WGW",
        "outputId": "6a276291-e638-47b8-d72b-518c271f697b"
      },
      "outputs": [
        {
          "name": "stdout",
          "output_type": "stream",
          "text": [
            "Resultado: cart-orig - Melhor: 0.609849 usando {'CART__criterion': 'entropy', 'CART__max_depth': 50, 'CART__max_features': 'log2', 'CART__min_samples_leaf': 1, 'CART__min_samples_split': 2}\n",
            "Resultado: cart-padr - Melhor: 0.616929 usando {'CART__criterion': 'entropy', 'CART__max_depth': None, 'CART__max_features': 'sqrt', 'CART__min_samples_leaf': 1, 'CART__min_samples_split': 2}\n",
            "Resultado: cart-norm - Melhor: 0.623930 usando {'CART__criterion': 'gini', 'CART__max_depth': 50, 'CART__max_features': 'sqrt', 'CART__min_samples_leaf': 1, 'CART__min_samples_split': 2}\n"
          ]
        }
      ],
      "source": [
        "# Tuning da Árvore de Decisão\n",
        "# Utilizando hiperparâmetros: criterion, max_depth, min_samples_split, min_samples_leaf, max_features\n",
        "\n",
        "# Melhor Resultado: cart-norm - Melhor: 0.623930 usando {'CART__criterion': 'gini', 'CART__max_depth': 50, 'CART__max_features': 'sqrt', 'CART__min_samples_leaf': 1, 'CART__min_samples_split': 2}\n",
        "\n",
        "np.random.seed(202507) # definindo uma semente global para este bloco\n",
        "\n",
        "pipelines = []\n",
        "\n",
        "# Definindo os componentes do pipeline\n",
        "cart = ('CART', DecisionTreeClassifier())\n",
        "standard_scaler = ('StandardScaler', StandardScaler())\n",
        "min_max_scaler = ('MinMaxScaler', MinMaxScaler())\n",
        "\n",
        "pipelines.append(('cart-orig', Pipeline(steps=[cart])))\n",
        "pipelines.append(('cart-padr', Pipeline(steps=[standard_scaler, cart])))\n",
        "pipelines.append(('cart-norm', Pipeline(steps=[min_max_scaler, cart])))\n",
        "\n",
        "param_grid = {\n",
        "    'CART__criterion': ['gini', 'entropy'],\n",
        "    'CART__max_depth': [None, 10, 20, 30, 40, 50],\n",
        "    'CART__min_samples_split': [2, 5, 10],\n",
        "    'CART__min_samples_leaf': [1, 2, 4],\n",
        "    'CART__max_features': [None, 'sqrt', 'log2']\n",
        "}\n",
        "\n",
        "# Prepara e executa o GridSearchCV\n",
        "for name, model in pipelines:\n",
        "    grid = GridSearchCV(estimator=model, param_grid=param_grid, scoring=scoring, cv=kfold)\n",
        "    grid.fit(X_train, y_train)\n",
        "    # imprime a melhor configuração\n",
        "    print(\"Resultado: %s - Melhor: %f usando %s\" % (name, grid.best_score_, grid.best_params_))"
      ]
    },
    {
      "cell_type": "markdown",
      "metadata": {},
      "source": [
        "O modelo **CART** foi testado com três versões dos dados e com mais parâmetros ajustados:\n",
        "\n",
        "- **CART-orig**: dados originais, sem transformação  \n",
        "- **CART-padr**: dados padronizados (média 0 e desvio padrão 1)  \n",
        "- **CART-norm**: dados normalizados (valores entre 0 e 1)\n",
        "\n",
        "Melhores resultados:\n",
        "\n",
        "- **CART-orig**: `0.6098`  \n",
        "  - Parâmetros: `criterion='entropy'`, `max_depth=50`, `max_features='log2'`, `min_samples_leaf=1`, `min_samples_split=2`\n",
        "\n",
        "- **CART-padr**: `0.6169`  \n",
        "  - Parâmetros: `criterion='entropy'`, `max_depth=None`, `max_features='sqrt'`, `min_samples_leaf=1`, `min_samples_split=2`\n",
        "\n",
        "- **CART-norm**: `0.6239`  \n",
        "  - Parâmetros: `criterion='gini'`, `max_depth=50`, `max_features='sqrt'`, `min_samples_leaf=1`, `min_samples_split=2`\n",
        "\n",
        "- **Tempo**: 50s\n",
        "\n",
        "📌 **Conclusão**: O melhor desempenho foi com os **dados normalizados** e o critério `gini`. Os ajustes adicionais nos hiperparâmetros como `criterion` e `max_features` contribuíram para melhorar o resultado, mostrando que a escolha dos parâmetros é importante para o desempenho do modelo."
      ]
    },
    {
      "cell_type": "markdown",
      "metadata": {},
      "source": [
        "#### Otimização do Voting Classifier"
      ]
    },
    {
      "cell_type": "code",
      "execution_count": 17,
      "metadata": {},
      "outputs": [
        {
          "name": "stdout",
          "output_type": "stream",
          "text": [
            "Modelo: Voting-orig - Melhor: 0.5825 usando {}\n",
            "Modelo: Voting-padr - Melhor: 0.6161 usando {}\n",
            "Modelo: Voting-norm - Melhor: 0.5942 usando {}\n"
          ]
        }
      ],
      "source": [
        "estimators = [\n",
        "    ('logistic', LogisticRegression(max_iter=200)),\n",
        "    ('cart', DecisionTreeClassifier()),\n",
        "    ('svm', SVC())\n",
        "]\n",
        "\n",
        "pipeline_voting_orig = Pipeline(steps=[('Voting', VotingClassifier(estimators=estimators, voting='hard'))])\n",
        "pipeline_voting_padr = Pipeline(steps=[('StandardScaler', StandardScaler()), ('Voting', VotingClassifier(estimators=estimators, voting='hard'))])\n",
        "pipeline_voting_norm = Pipeline(steps=[('MinMaxScaler', MinMaxScaler()), ('Voting', VotingClassifier(estimators=estimators, voting='hard'))])\n",
        "\n",
        "# VotingClassifier geralmente não tem parâmetros próprios úteis para otimização nesse contexto\n",
        "param_grid_voting = {}\n",
        "\n",
        "for pipeline, label in zip([pipeline_voting_orig, pipeline_voting_padr, pipeline_voting_norm], ['orig', 'padr', 'norm']):\n",
        "    grid = GridSearchCV(estimator=pipeline, param_grid=param_grid_voting, scoring='accuracy', cv=5)\n",
        "    grid.fit(X_train, y_train)\n",
        "    print(f\"Modelo: Voting-{label} - Melhor: {grid.best_score_:.4f} usando {grid.best_params_}\")"
      ]
    },
    {
      "cell_type": "markdown",
      "metadata": {},
      "source": [
        "O modelo **Voting** foi testado com três versões dos dados:\n",
        "\n",
        "- **Voting-orig**: dados originais, sem transformação  \n",
        "- **Voting-padr**: dados padronizados (média 0 e desvio padrão 1)  \n",
        "- **Voting-norm**: dados normalizados (valores entre 0 e 1)\n",
        "\n",
        "Melhores resultados:\n",
        "\n",
        "- **Voting-orig**: `0.5825`\n",
        "- **Voting-padr**: `0.6161`\n",
        "- **Voting-norm**: `0.5942`\n",
        "- **Tempo**: 1s\n",
        "\n",
        "📌 **Conclusão**: O melhor desempenho foi obtido com dados padronizados, indicando que o pré-processamento pode ajudar a melhorar a combinação de modelos no Voting Classifier."
      ]
    },
    {
      "cell_type": "markdown",
      "metadata": {
        "id": "cuUpaYcwDRDt"
      },
      "source": [
        "## Finalização do Modelo"
      ]
    },
    {
      "cell_type": "markdown",
      "metadata": {},
      "source": [
        "Este código realiza o treinamento e avaliação de um modelo de **Bagging** com árvores de decisão, utilizando **StandardScaler** para padronizar os dados.\n",
        "\n",
        "**Passos principais:**\n",
        "\n",
        "1. **Padronização dos dados**:  \n",
        "   O `StandardScaler` é ajustado (`fit`) nos dados de treino (`X_train`) para aprender a média e desvio padrão.  \n",
        "   Depois, ele transforma (`transform`) tanto os dados de treino quanto os de teste, aplicando a padronização.\n",
        "\n",
        "2. **Criação e treinamento do modelo**:  \n",
        "   Um modelo de `BaggingClassifier` com 100 árvores de decisão (`DecisionTreeClassifier`) é criado e treinado usando os dados padronizados de treino.\n",
        "\n",
        "3. **Avaliação do modelo**:  \n",
        "   O modelo faz previsões nos dados padronizados de teste (`scaledX_test`) e a acurácia é calculada para medir o desempenho.\n",
        "\n",
        "---\n",
        "\n",
        "Esse processo garante que o modelo receba dados com escalas semelhantes, o que pode ajudar a melhorar a performance, especialmente em algoritmos sensíveis à escala dos dados."
      ]
    },
    {
      "cell_type": "code",
      "execution_count": 18,
      "metadata": {
        "colab": {
          "base_uri": "https://localhost:8080/"
        },
        "id": "lbrFxAbSDVIj",
        "outputId": "df342c7f-1d94-4d1c-e197-0738764b9c13"
      },
      "outputs": [
        {
          "name": "stdout",
          "output_type": "stream",
          "text": [
            "Acurácia no conjunto de teste (Bagging com StandardScaler): 0.721875\n"
          ]
        }
      ],
      "source": [
        "scaler = StandardScaler().fit(X_train)\n",
        "\n",
        "# Aplicar o scaler nos dados\n",
        "scaledX_train = scaler.transform(X_train)\n",
        "scaledX_test = scaler.transform(X_test)\n",
        "\n",
        "# Criar o modelo Bagging com DecisionTree como base\n",
        "model = BaggingClassifier(estimator=DecisionTreeClassifier(), n_estimators=100)\n",
        "model.fit(scaledX_train, y_train)\n",
        "\n",
        "# Fazer predições e avaliar\n",
        "predictions = model.predict(scaledX_test)\n",
        "accuracy = accuracy_score(y_test, predictions)\n",
        "\n",
        "print(f\"Acurácia no conjunto de teste (Bagging com StandardScaler): {accuracy:.6f}\")"
      ]
    },
    {
      "cell_type": "code",
      "execution_count": 19,
      "metadata": {
        "colab": {
          "base_uri": "https://localhost:8080/",
          "height": 155
        },
        "id": "iGeQHmeg4ziu",
        "outputId": "f44bebc4-f68b-44fa-ee5d-39959078fab4"
      },
      "outputs": [
        {
          "data": {
            "text/html": [
              "<style>#sk-container-id-1 {\n",
              "  /* Definition of color scheme common for light and dark mode */\n",
              "  --sklearn-color-text: black;\n",
              "  --sklearn-color-line: gray;\n",
              "  /* Definition of color scheme for unfitted estimators */\n",
              "  --sklearn-color-unfitted-level-0: #fff5e6;\n",
              "  --sklearn-color-unfitted-level-1: #f6e4d2;\n",
              "  --sklearn-color-unfitted-level-2: #ffe0b3;\n",
              "  --sklearn-color-unfitted-level-3: chocolate;\n",
              "  /* Definition of color scheme for fitted estimators */\n",
              "  --sklearn-color-fitted-level-0: #f0f8ff;\n",
              "  --sklearn-color-fitted-level-1: #d4ebff;\n",
              "  --sklearn-color-fitted-level-2: #b3dbfd;\n",
              "  --sklearn-color-fitted-level-3: cornflowerblue;\n",
              "\n",
              "  /* Specific color for light theme */\n",
              "  --sklearn-color-text-on-default-background: var(--sg-text-color, var(--theme-code-foreground, var(--jp-content-font-color1, black)));\n",
              "  --sklearn-color-background: var(--sg-background-color, var(--theme-background, var(--jp-layout-color0, white)));\n",
              "  --sklearn-color-border-box: var(--sg-text-color, var(--theme-code-foreground, var(--jp-content-font-color1, black)));\n",
              "  --sklearn-color-icon: #696969;\n",
              "\n",
              "  @media (prefers-color-scheme: dark) {\n",
              "    /* Redefinition of color scheme for dark theme */\n",
              "    --sklearn-color-text-on-default-background: var(--sg-text-color, var(--theme-code-foreground, var(--jp-content-font-color1, white)));\n",
              "    --sklearn-color-background: var(--sg-background-color, var(--theme-background, var(--jp-layout-color0, #111)));\n",
              "    --sklearn-color-border-box: var(--sg-text-color, var(--theme-code-foreground, var(--jp-content-font-color1, white)));\n",
              "    --sklearn-color-icon: #878787;\n",
              "  }\n",
              "}\n",
              "\n",
              "#sk-container-id-1 {\n",
              "  color: var(--sklearn-color-text);\n",
              "}\n",
              "\n",
              "#sk-container-id-1 pre {\n",
              "  padding: 0;\n",
              "}\n",
              "\n",
              "#sk-container-id-1 input.sk-hidden--visually {\n",
              "  border: 0;\n",
              "  clip: rect(1px 1px 1px 1px);\n",
              "  clip: rect(1px, 1px, 1px, 1px);\n",
              "  height: 1px;\n",
              "  margin: -1px;\n",
              "  overflow: hidden;\n",
              "  padding: 0;\n",
              "  position: absolute;\n",
              "  width: 1px;\n",
              "}\n",
              "\n",
              "#sk-container-id-1 div.sk-dashed-wrapped {\n",
              "  border: 1px dashed var(--sklearn-color-line);\n",
              "  margin: 0 0.4em 0.5em 0.4em;\n",
              "  box-sizing: border-box;\n",
              "  padding-bottom: 0.4em;\n",
              "  background-color: var(--sklearn-color-background);\n",
              "}\n",
              "\n",
              "#sk-container-id-1 div.sk-container {\n",
              "  /* jupyter's `normalize.less` sets `[hidden] { display: none; }`\n",
              "     but bootstrap.min.css set `[hidden] { display: none !important; }`\n",
              "     so we also need the `!important` here to be able to override the\n",
              "     default hidden behavior on the sphinx rendered scikit-learn.org.\n",
              "     See: https://github.com/scikit-learn/scikit-learn/issues/21755 */\n",
              "  display: inline-block !important;\n",
              "  position: relative;\n",
              "}\n",
              "\n",
              "#sk-container-id-1 div.sk-text-repr-fallback {\n",
              "  display: none;\n",
              "}\n",
              "\n",
              "div.sk-parallel-item,\n",
              "div.sk-serial,\n",
              "div.sk-item {\n",
              "  /* draw centered vertical line to link estimators */\n",
              "  background-image: linear-gradient(var(--sklearn-color-text-on-default-background), var(--sklearn-color-text-on-default-background));\n",
              "  background-size: 2px 100%;\n",
              "  background-repeat: no-repeat;\n",
              "  background-position: center center;\n",
              "}\n",
              "\n",
              "/* Parallel-specific style estimator block */\n",
              "\n",
              "#sk-container-id-1 div.sk-parallel-item::after {\n",
              "  content: \"\";\n",
              "  width: 100%;\n",
              "  border-bottom: 2px solid var(--sklearn-color-text-on-default-background);\n",
              "  flex-grow: 1;\n",
              "}\n",
              "\n",
              "#sk-container-id-1 div.sk-parallel {\n",
              "  display: flex;\n",
              "  align-items: stretch;\n",
              "  justify-content: center;\n",
              "  background-color: var(--sklearn-color-background);\n",
              "  position: relative;\n",
              "}\n",
              "\n",
              "#sk-container-id-1 div.sk-parallel-item {\n",
              "  display: flex;\n",
              "  flex-direction: column;\n",
              "}\n",
              "\n",
              "#sk-container-id-1 div.sk-parallel-item:first-child::after {\n",
              "  align-self: flex-end;\n",
              "  width: 50%;\n",
              "}\n",
              "\n",
              "#sk-container-id-1 div.sk-parallel-item:last-child::after {\n",
              "  align-self: flex-start;\n",
              "  width: 50%;\n",
              "}\n",
              "\n",
              "#sk-container-id-1 div.sk-parallel-item:only-child::after {\n",
              "  width: 0;\n",
              "}\n",
              "\n",
              "/* Serial-specific style estimator block */\n",
              "\n",
              "#sk-container-id-1 div.sk-serial {\n",
              "  display: flex;\n",
              "  flex-direction: column;\n",
              "  align-items: center;\n",
              "  background-color: var(--sklearn-color-background);\n",
              "  padding-right: 1em;\n",
              "  padding-left: 1em;\n",
              "}\n",
              "\n",
              "\n",
              "/* Toggleable style: style used for estimator/Pipeline/ColumnTransformer box that is\n",
              "clickable and can be expanded/collapsed.\n",
              "- Pipeline and ColumnTransformer use this feature and define the default style\n",
              "- Estimators will overwrite some part of the style using the `sk-estimator` class\n",
              "*/\n",
              "\n",
              "/* Pipeline and ColumnTransformer style (default) */\n",
              "\n",
              "#sk-container-id-1 div.sk-toggleable {\n",
              "  /* Default theme specific background. It is overwritten whether we have a\n",
              "  specific estimator or a Pipeline/ColumnTransformer */\n",
              "  background-color: var(--sklearn-color-background);\n",
              "}\n",
              "\n",
              "/* Toggleable label */\n",
              "#sk-container-id-1 label.sk-toggleable__label {\n",
              "  cursor: pointer;\n",
              "  display: block;\n",
              "  width: 100%;\n",
              "  margin-bottom: 0;\n",
              "  padding: 0.5em;\n",
              "  box-sizing: border-box;\n",
              "  text-align: center;\n",
              "}\n",
              "\n",
              "#sk-container-id-1 label.sk-toggleable__label-arrow:before {\n",
              "  /* Arrow on the left of the label */\n",
              "  content: \"▸\";\n",
              "  float: left;\n",
              "  margin-right: 0.25em;\n",
              "  color: var(--sklearn-color-icon);\n",
              "}\n",
              "\n",
              "#sk-container-id-1 label.sk-toggleable__label-arrow:hover:before {\n",
              "  color: var(--sklearn-color-text);\n",
              "}\n",
              "\n",
              "/* Toggleable content - dropdown */\n",
              "\n",
              "#sk-container-id-1 div.sk-toggleable__content {\n",
              "  max-height: 0;\n",
              "  max-width: 0;\n",
              "  overflow: hidden;\n",
              "  text-align: left;\n",
              "  /* unfitted */\n",
              "  background-color: var(--sklearn-color-unfitted-level-0);\n",
              "}\n",
              "\n",
              "#sk-container-id-1 div.sk-toggleable__content.fitted {\n",
              "  /* fitted */\n",
              "  background-color: var(--sklearn-color-fitted-level-0);\n",
              "}\n",
              "\n",
              "#sk-container-id-1 div.sk-toggleable__content pre {\n",
              "  margin: 0.2em;\n",
              "  border-radius: 0.25em;\n",
              "  color: var(--sklearn-color-text);\n",
              "  /* unfitted */\n",
              "  background-color: var(--sklearn-color-unfitted-level-0);\n",
              "}\n",
              "\n",
              "#sk-container-id-1 div.sk-toggleable__content.fitted pre {\n",
              "  /* unfitted */\n",
              "  background-color: var(--sklearn-color-fitted-level-0);\n",
              "}\n",
              "\n",
              "#sk-container-id-1 input.sk-toggleable__control:checked~div.sk-toggleable__content {\n",
              "  /* Expand drop-down */\n",
              "  max-height: 200px;\n",
              "  max-width: 100%;\n",
              "  overflow: auto;\n",
              "}\n",
              "\n",
              "#sk-container-id-1 input.sk-toggleable__control:checked~label.sk-toggleable__label-arrow:before {\n",
              "  content: \"▾\";\n",
              "}\n",
              "\n",
              "/* Pipeline/ColumnTransformer-specific style */\n",
              "\n",
              "#sk-container-id-1 div.sk-label input.sk-toggleable__control:checked~label.sk-toggleable__label {\n",
              "  color: var(--sklearn-color-text);\n",
              "  background-color: var(--sklearn-color-unfitted-level-2);\n",
              "}\n",
              "\n",
              "#sk-container-id-1 div.sk-label.fitted input.sk-toggleable__control:checked~label.sk-toggleable__label {\n",
              "  background-color: var(--sklearn-color-fitted-level-2);\n",
              "}\n",
              "\n",
              "/* Estimator-specific style */\n",
              "\n",
              "/* Colorize estimator box */\n",
              "#sk-container-id-1 div.sk-estimator input.sk-toggleable__control:checked~label.sk-toggleable__label {\n",
              "  /* unfitted */\n",
              "  background-color: var(--sklearn-color-unfitted-level-2);\n",
              "}\n",
              "\n",
              "#sk-container-id-1 div.sk-estimator.fitted input.sk-toggleable__control:checked~label.sk-toggleable__label {\n",
              "  /* fitted */\n",
              "  background-color: var(--sklearn-color-fitted-level-2);\n",
              "}\n",
              "\n",
              "#sk-container-id-1 div.sk-label label.sk-toggleable__label,\n",
              "#sk-container-id-1 div.sk-label label {\n",
              "  /* The background is the default theme color */\n",
              "  color: var(--sklearn-color-text-on-default-background);\n",
              "}\n",
              "\n",
              "/* On hover, darken the color of the background */\n",
              "#sk-container-id-1 div.sk-label:hover label.sk-toggleable__label {\n",
              "  color: var(--sklearn-color-text);\n",
              "  background-color: var(--sklearn-color-unfitted-level-2);\n",
              "}\n",
              "\n",
              "/* Label box, darken color on hover, fitted */\n",
              "#sk-container-id-1 div.sk-label.fitted:hover label.sk-toggleable__label.fitted {\n",
              "  color: var(--sklearn-color-text);\n",
              "  background-color: var(--sklearn-color-fitted-level-2);\n",
              "}\n",
              "\n",
              "/* Estimator label */\n",
              "\n",
              "#sk-container-id-1 div.sk-label label {\n",
              "  font-family: monospace;\n",
              "  font-weight: bold;\n",
              "  display: inline-block;\n",
              "  line-height: 1.2em;\n",
              "}\n",
              "\n",
              "#sk-container-id-1 div.sk-label-container {\n",
              "  text-align: center;\n",
              "}\n",
              "\n",
              "/* Estimator-specific */\n",
              "#sk-container-id-1 div.sk-estimator {\n",
              "  font-family: monospace;\n",
              "  border: 1px dotted var(--sklearn-color-border-box);\n",
              "  border-radius: 0.25em;\n",
              "  box-sizing: border-box;\n",
              "  margin-bottom: 0.5em;\n",
              "  /* unfitted */\n",
              "  background-color: var(--sklearn-color-unfitted-level-0);\n",
              "}\n",
              "\n",
              "#sk-container-id-1 div.sk-estimator.fitted {\n",
              "  /* fitted */\n",
              "  background-color: var(--sklearn-color-fitted-level-0);\n",
              "}\n",
              "\n",
              "/* on hover */\n",
              "#sk-container-id-1 div.sk-estimator:hover {\n",
              "  /* unfitted */\n",
              "  background-color: var(--sklearn-color-unfitted-level-2);\n",
              "}\n",
              "\n",
              "#sk-container-id-1 div.sk-estimator.fitted:hover {\n",
              "  /* fitted */\n",
              "  background-color: var(--sklearn-color-fitted-level-2);\n",
              "}\n",
              "\n",
              "/* Specification for estimator info (e.g. \"i\" and \"?\") */\n",
              "\n",
              "/* Common style for \"i\" and \"?\" */\n",
              "\n",
              ".sk-estimator-doc-link,\n",
              "a:link.sk-estimator-doc-link,\n",
              "a:visited.sk-estimator-doc-link {\n",
              "  float: right;\n",
              "  font-size: smaller;\n",
              "  line-height: 1em;\n",
              "  font-family: monospace;\n",
              "  background-color: var(--sklearn-color-background);\n",
              "  border-radius: 1em;\n",
              "  height: 1em;\n",
              "  width: 1em;\n",
              "  text-decoration: none !important;\n",
              "  margin-left: 1ex;\n",
              "  /* unfitted */\n",
              "  border: var(--sklearn-color-unfitted-level-1) 1pt solid;\n",
              "  color: var(--sklearn-color-unfitted-level-1);\n",
              "}\n",
              "\n",
              ".sk-estimator-doc-link.fitted,\n",
              "a:link.sk-estimator-doc-link.fitted,\n",
              "a:visited.sk-estimator-doc-link.fitted {\n",
              "  /* fitted */\n",
              "  border: var(--sklearn-color-fitted-level-1) 1pt solid;\n",
              "  color: var(--sklearn-color-fitted-level-1);\n",
              "}\n",
              "\n",
              "/* On hover */\n",
              "div.sk-estimator:hover .sk-estimator-doc-link:hover,\n",
              ".sk-estimator-doc-link:hover,\n",
              "div.sk-label-container:hover .sk-estimator-doc-link:hover,\n",
              ".sk-estimator-doc-link:hover {\n",
              "  /* unfitted */\n",
              "  background-color: var(--sklearn-color-unfitted-level-3);\n",
              "  color: var(--sklearn-color-background);\n",
              "  text-decoration: none;\n",
              "}\n",
              "\n",
              "div.sk-estimator.fitted:hover .sk-estimator-doc-link.fitted:hover,\n",
              ".sk-estimator-doc-link.fitted:hover,\n",
              "div.sk-label-container:hover .sk-estimator-doc-link.fitted:hover,\n",
              ".sk-estimator-doc-link.fitted:hover {\n",
              "  /* fitted */\n",
              "  background-color: var(--sklearn-color-fitted-level-3);\n",
              "  color: var(--sklearn-color-background);\n",
              "  text-decoration: none;\n",
              "}\n",
              "\n",
              "/* Span, style for the box shown on hovering the info icon */\n",
              ".sk-estimator-doc-link span {\n",
              "  display: none;\n",
              "  z-index: 9999;\n",
              "  position: relative;\n",
              "  font-weight: normal;\n",
              "  right: .2ex;\n",
              "  padding: .5ex;\n",
              "  margin: .5ex;\n",
              "  width: min-content;\n",
              "  min-width: 20ex;\n",
              "  max-width: 50ex;\n",
              "  color: var(--sklearn-color-text);\n",
              "  box-shadow: 2pt 2pt 4pt #999;\n",
              "  /* unfitted */\n",
              "  background: var(--sklearn-color-unfitted-level-0);\n",
              "  border: .5pt solid var(--sklearn-color-unfitted-level-3);\n",
              "}\n",
              "\n",
              ".sk-estimator-doc-link.fitted span {\n",
              "  /* fitted */\n",
              "  background: var(--sklearn-color-fitted-level-0);\n",
              "  border: var(--sklearn-color-fitted-level-3);\n",
              "}\n",
              "\n",
              ".sk-estimator-doc-link:hover span {\n",
              "  display: block;\n",
              "}\n",
              "\n",
              "/* \"?\"-specific style due to the `<a>` HTML tag */\n",
              "\n",
              "#sk-container-id-1 a.estimator_doc_link {\n",
              "  float: right;\n",
              "  font-size: 1rem;\n",
              "  line-height: 1em;\n",
              "  font-family: monospace;\n",
              "  background-color: var(--sklearn-color-background);\n",
              "  border-radius: 1rem;\n",
              "  height: 1rem;\n",
              "  width: 1rem;\n",
              "  text-decoration: none;\n",
              "  /* unfitted */\n",
              "  color: var(--sklearn-color-unfitted-level-1);\n",
              "  border: var(--sklearn-color-unfitted-level-1) 1pt solid;\n",
              "}\n",
              "\n",
              "#sk-container-id-1 a.estimator_doc_link.fitted {\n",
              "  /* fitted */\n",
              "  border: var(--sklearn-color-fitted-level-1) 1pt solid;\n",
              "  color: var(--sklearn-color-fitted-level-1);\n",
              "}\n",
              "\n",
              "/* On hover */\n",
              "#sk-container-id-1 a.estimator_doc_link:hover {\n",
              "  /* unfitted */\n",
              "  background-color: var(--sklearn-color-unfitted-level-3);\n",
              "  color: var(--sklearn-color-background);\n",
              "  text-decoration: none;\n",
              "}\n",
              "\n",
              "#sk-container-id-1 a.estimator_doc_link.fitted:hover {\n",
              "  /* fitted */\n",
              "  background-color: var(--sklearn-color-fitted-level-3);\n",
              "}\n",
              "</style><div id=\"sk-container-id-1\" class=\"sk-top-container\"><div class=\"sk-text-repr-fallback\"><pre>BaggingClassifier(estimator=DecisionTreeClassifier(), n_estimators=100)</pre><b>In a Jupyter environment, please rerun this cell to show the HTML representation or trust the notebook. <br />On GitHub, the HTML representation is unable to render, please try loading this page with nbviewer.org.</b></div><div class=\"sk-container\" hidden><div class=\"sk-item sk-dashed-wrapped\"><div class=\"sk-label-container\"><div class=\"sk-label fitted sk-toggleable\"><input class=\"sk-toggleable__control sk-hidden--visually\" id=\"sk-estimator-id-1\" type=\"checkbox\" ><label for=\"sk-estimator-id-1\" class=\"sk-toggleable__label fitted sk-toggleable__label-arrow fitted\">&nbsp;&nbsp;BaggingClassifier<a class=\"sk-estimator-doc-link fitted\" rel=\"noreferrer\" target=\"_blank\" href=\"https://scikit-learn.org/1.5/modules/generated/sklearn.ensemble.BaggingClassifier.html\">?<span>Documentation for BaggingClassifier</span></a><span class=\"sk-estimator-doc-link fitted\">i<span>Fitted</span></span></label><div class=\"sk-toggleable__content fitted\"><pre>BaggingClassifier(estimator=DecisionTreeClassifier(), n_estimators=100)</pre></div> </div></div><div class=\"sk-parallel\"><div class=\"sk-parallel-item\"><div class=\"sk-item\"><div class=\"sk-label-container\"><div class=\"sk-label fitted sk-toggleable\"><input class=\"sk-toggleable__control sk-hidden--visually\" id=\"sk-estimator-id-2\" type=\"checkbox\" ><label for=\"sk-estimator-id-2\" class=\"sk-toggleable__label fitted sk-toggleable__label-arrow fitted\">estimator: DecisionTreeClassifier</label><div class=\"sk-toggleable__content fitted\"><pre>DecisionTreeClassifier()</pre></div> </div></div><div class=\"sk-serial\"><div class=\"sk-item\"><div class=\"sk-estimator fitted sk-toggleable\"><input class=\"sk-toggleable__control sk-hidden--visually\" id=\"sk-estimator-id-3\" type=\"checkbox\" ><label for=\"sk-estimator-id-3\" class=\"sk-toggleable__label fitted sk-toggleable__label-arrow fitted\">&nbsp;DecisionTreeClassifier<a class=\"sk-estimator-doc-link fitted\" rel=\"noreferrer\" target=\"_blank\" href=\"https://scikit-learn.org/1.5/modules/generated/sklearn.tree.DecisionTreeClassifier.html\">?<span>Documentation for DecisionTreeClassifier</span></a></label><div class=\"sk-toggleable__content fitted\"><pre>DecisionTreeClassifier()</pre></div> </div></div></div></div></div></div></div></div></div>"
            ],
            "text/plain": [
              "BaggingClassifier(estimator=DecisionTreeClassifier(), n_estimators=100)"
            ]
          },
          "execution_count": 19,
          "metadata": {},
          "output_type": "execute_result"
        }
      ],
      "source": [
        "# Preparação do modelo com TODO o dataset\n",
        "model.fit(X, y)"
      ]
    },
    {
      "cell_type": "markdown",
      "metadata": {
        "id": "MqzfE5wabZ4E"
      },
      "source": [
        "### Salvando o arquivo pkl como um Pipeline contendo o modelo e o scaler"
      ]
    },
    {
      "cell_type": "code",
      "execution_count": 20,
      "metadata": {
        "colab": {
          "base_uri": "https://localhost:8080/",
          "height": 17
        },
        "id": "vGBPX-zkHkfd",
        "outputId": "dc19ebfa-36d8-42b9-d1e1-ec98b27556d0"
      },
      "outputs": [
        {
          "name": "stdout",
          "output_type": "stream",
          "text": [
            "Acurácia no conjunto de teste (Bagging com StandardScaler): 0.703125\n"
          ]
        }
      ],
      "source": [
        "# Criar pipeline com scaler e modelo\n",
        "pipeline = Pipeline(steps=[\n",
        "    ('StandardScaler', StandardScaler()),\n",
        "    ('Bagging', model)\n",
        "])\n",
        "\n",
        "# Treinar pipeline\n",
        "pipeline.fit(X_train, y_train)\n",
        "\n",
        "# Fazer predições e avaliar\n",
        "predictions = model.predict(scaledX_test)\n",
        "accuracy = accuracy_score(y_test, predictions)\n",
        "\n",
        "print(f\"Acurácia no conjunto de teste (Bagging com StandardScaler): {accuracy:.6f}\")\n"
      ]
    },
    {
      "cell_type": "code",
      "execution_count": 37,
      "metadata": {
        "colab": {
          "base_uri": "https://localhost:8080/",
          "height": 17
        },
        "id": "5Ng1e6jRbX-C",
        "outputId": "07e15359-1a21-44eb-95a5-75931202d18a"
      },
      "outputs": [],
      "source": [
        "# Salvar o modelo\n",
        "model_filename = 'bag_wine_model.pkl'\n",
        "with open(\"../models/\" + model_filename, 'wb') as file:\n",
        "    pickle.dump(model, file)\n",
        "\n",
        "# Salvar o scaler\n",
        "scaler_filename = 'scaler_wine.pkl'\n",
        "with open(\"../scalers/\" + scaler_filename, 'wb') as file:\n",
        "    pickle.dump(scaler, file)\n",
        "\n",
        "# Salvar o pipeline (scaler + modelo)\n",
        "pipeline_filename = 'pipeline_wine_svm.pkl'\n",
        "with open(\"../pipelines/\" + pipeline_filename, 'wb') as file:\n",
        "    pickle.dump(pipeline, file)"
      ]
    }
  ],
  "metadata": {
    "colab": {
      "provenance": []
    },
    "kernelspec": {
      "display_name": "Python 3",
      "name": "python3"
    },
    "language_info": {
      "codemirror_mode": {
        "name": "ipython",
        "version": 3
      },
      "file_extension": ".py",
      "mimetype": "text/x-python",
      "name": "python",
      "nbconvert_exporter": "python",
      "pygments_lexer": "ipython3",
      "version": "3.11.9"
    }
  },
  "nbformat": 4,
  "nbformat_minor": 0
}
